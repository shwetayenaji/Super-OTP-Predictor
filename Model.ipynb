{
  "nbformat": 4,
  "nbformat_minor": 0,
  "metadata": {
    "colab": {
      "provenance": []
    },
    "kernelspec": {
      "name": "python3",
      "display_name": "Python 3"
    },
    "language_info": {
      "name": "python"
    }
  },
  "cells": [
    {
      "cell_type": "markdown",
      "source": [
        "## Dataset Creation"
      ],
      "metadata": {
        "id": "-NKaCTLLKYZE"
      }
    },
    {
      "cell_type": "code",
      "source": [
        "pip install Faker"
      ],
      "metadata": {
        "colab": {
          "base_uri": "https://localhost:8080/"
        },
        "id": "bd4YI7vNKC_K",
        "outputId": "2378e735-fc45-41a8-99e9-ee4487da9c79"
      },
      "execution_count": null,
      "outputs": [
        {
          "output_type": "stream",
          "name": "stdout",
          "text": [
            "Requirement already satisfied: Faker in /usr/local/lib/python3.11/dist-packages (37.5.3)\n",
            "Requirement already satisfied: tzdata in /usr/local/lib/python3.11/dist-packages (from Faker) (2025.2)\n"
          ]
        }
      ]
    },
    {
      "cell_type": "code",
      "execution_count": null,
      "metadata": {
        "colab": {
          "base_uri": "https://localhost:8080/"
        },
        "id": "8hiAR_SXJ8Av",
        "outputId": "250ee1c8-7de7-4f73-c0ea-81c14a0ae34a"
      },
      "outputs": [
        {
          "output_type": "stream",
          "name": "stdout",
          "text": [
            "Dataset saved as super_otp_dataset.csv\n"
          ]
        }
      ],
      "source": [
        "import pandas as pd\n",
        "import numpy as np\n",
        "import random\n",
        "from6 faker import Faker\n",
        "import uuid\n",
        "\n",
        "fake = Faker()\n",
        "n = 10000\n",
        "\n",
        "# Define distributions\n",
        "device_types = [\"Mobile\", \"Desktop\"]\n",
        "network_types = [\"WiFi\", \"4G\", \"None\"]\n",
        "os_versions = [\"Android 12\", \"Android 13\", \"iOS 15\", \"iOS 16\"]\n",
        "\n",
        "def generate_row():\n",
        "    user_id = str(uuid.uuid4())\n",
        "    device_type = random.choice(device_types)\n",
        "    location_match = np.random.choice([1, 0], p=[0.8, 0.2])\n",
        "    app_login_duration = round(np.random.exponential(10), 2)  # avg ~10 minutes\n",
        "    app_usage_today = round(np.random.normal(60, 30), 2)  # avg ~1 hr, some variance\n",
        "    payment_amount = round(np.random.uniform(50, 25000), 2)\n",
        "    transaction_hour = np.random.randint(0, 24)\n",
        "    past_fraud_flag = np.random.choice([1, 0], p=[0.05, 0.95])  # 5% have fraud\n",
        "    network_type = random.choice(network_types)\n",
        "    os_version = random.choice(os_versions)\n",
        "    battery_level = np.random.randint(5, 100)\n",
        "\n",
        "    # Logic to determine eligibility for Super OTP\n",
        "    eligible = int(\n",
        "        (device_type == \"Mobile\") and\n",
        "        (location_match == 1) and\n",
        "        (app_login_duration >= 5) and\n",
        "        (app_usage_today >= 20) and\n",
        "        (battery_level >= 20) and\n",
        "        (past_fraud_flag == 0) and\n",
        "        (payment_amount <= 5000) and\n",
        "        (network_type in [\"WiFi\", \"4G\"])\n",
        "    )\n",
        "\n",
        "    return [\n",
        "        user_id, device_type, location_match, app_login_duration,\n",
        "        app_usage_today, payment_amount, transaction_hour, past_fraud_flag,\n",
        "        network_type, os_version, battery_level, eligible\n",
        "    ]\n",
        "\n",
        "# Generate dataset\n",
        "data = [generate_row() for _ in range(n)]\n",
        "\n",
        "# Create DataFrame\n",
        "columns = [\n",
        "    \"user_id\", \"device_type\", \"location_match\", \"app_login_duration\",\n",
        "    \"app_usage_today\", \"payment_amount\", \"transaction_hour\", \"past_fraud_flag\",\n",
        "    \"network_type\", \"os_version\", \"battery_level\", \"eligible_for_super_otp\"\n",
        "]\n",
        "df = pd.DataFrame(data, columns=columns)\n",
        "\n",
        "# Save to CSV\n",
        "df.to_csv(\"super_otp_dataset.csv\", index=False)\n",
        "print(\"Dataset saved as super_otp_dataset.csv\")"
      ]
    },
    {
      "cell_type": "markdown",
      "source": [
        "## Model definition"
      ],
      "metadata": {
        "id": "ny2Fp-9FKUK5"
      }
    },
    {
      "cell_type": "code",
      "source": [
        "!pip install pandas scikit-learn matplotlib seaborn\n",
        "\n",
        "import pandas as pd\n",
        "import numpy as np\n",
        "import seaborn as sns\n",
        "import matplotlib.pyplot as plt\n",
        "\n",
        "from sklearn.model_selection import train_test_split\n",
        "from sklearn.preprocessing import LabelEncoder\n",
        "from sklearn.ensemble import RandomForestClassifier\n",
        "from sklearn.metrics import classification_report, confusion_matrix, accuracy_score, f1_score"
      ],
      "metadata": {
        "colab": {
          "base_uri": "https://localhost:8080/"
        },
        "id": "BVAxUHE7KNM5",
        "outputId": "560e3267-f87a-4961-f4f9-9b90fb970611"
      },
      "execution_count": null,
      "outputs": [
        {
          "output_type": "stream",
          "name": "stdout",
          "text": [
            "Requirement already satisfied: pandas in /usr/local/lib/python3.11/dist-packages (2.2.2)\n",
            "Requirement already satisfied: scikit-learn in /usr/local/lib/python3.11/dist-packages (1.6.1)\n",
            "Requirement already satisfied: matplotlib in /usr/local/lib/python3.11/dist-packages (3.10.0)\n",
            "Requirement already satisfied: seaborn in /usr/local/lib/python3.11/dist-packages (0.13.2)\n",
            "Requirement already satisfied: numpy>=1.23.2 in /usr/local/lib/python3.11/dist-packages (from pandas) (2.0.2)\n",
            "Requirement already satisfied: python-dateutil>=2.8.2 in /usr/local/lib/python3.11/dist-packages (from pandas) (2.9.0.post0)\n",
            "Requirement already satisfied: pytz>=2020.1 in /usr/local/lib/python3.11/dist-packages (from pandas) (2025.2)\n",
            "Requirement already satisfied: tzdata>=2022.7 in /usr/local/lib/python3.11/dist-packages (from pandas) (2025.2)\n",
            "Requirement already satisfied: scipy>=1.6.0 in /usr/local/lib/python3.11/dist-packages (from scikit-learn) (1.16.0)\n",
            "Requirement already satisfied: joblib>=1.2.0 in /usr/local/lib/python3.11/dist-packages (from scikit-learn) (1.5.1)\n",
            "Requirement already satisfied: threadpoolctl>=3.1.0 in /usr/local/lib/python3.11/dist-packages (from scikit-learn) (3.6.0)\n",
            "Requirement already satisfied: contourpy>=1.0.1 in /usr/local/lib/python3.11/dist-packages (from matplotlib) (1.3.2)\n",
            "Requirement already satisfied: cycler>=0.10 in /usr/local/lib/python3.11/dist-packages (from matplotlib) (0.12.1)\n",
            "Requirement already satisfied: fonttools>=4.22.0 in /usr/local/lib/python3.11/dist-packages (from matplotlib) (4.59.0)\n",
            "Requirement already satisfied: kiwisolver>=1.3.1 in /usr/local/lib/python3.11/dist-packages (from matplotlib) (1.4.8)\n",
            "Requirement already satisfied: packaging>=20.0 in /usr/local/lib/python3.11/dist-packages (from matplotlib) (25.0)\n",
            "Requirement already satisfied: pillow>=8 in /usr/local/lib/python3.11/dist-packages (from matplotlib) (11.3.0)\n",
            "Requirement already satisfied: pyparsing>=2.3.1 in /usr/local/lib/python3.11/dist-packages (from matplotlib) (3.2.3)\n",
            "Requirement already satisfied: six>=1.5 in /usr/local/lib/python3.11/dist-packages (from python-dateutil>=2.8.2->pandas) (1.17.0)\n"
          ]
        }
      ]
    },
    {
      "cell_type": "code",
      "source": [
        "\n",
        "df = pd.read_csv(\"super_otp_dataset.csv\")\n",
        "df.drop(\"user_id\", axis=1, inplace=True)\n",
        "label_encoders = {}\n",
        "categorical_cols = [\"device_type\", \"network_type\", \"os_version\"]\n",
        "\n",
        "for col in categorical_cols:\n",
        "    le = LabelEncoder()\n",
        "    df[col] = le.fit_transform(df[col])\n",
        "    label_encoders[col] = le"
      ],
      "metadata": {
        "id": "vooS1pUnKgx5"
      },
      "execution_count": null,
      "outputs": []
    },
    {
      "cell_type": "code",
      "source": [
        "X = df.drop(\"eligible_for_super_otp\", axis=1)\n",
        "y = df[\"eligible_for_super_otp\"]\n",
        "\n",
        "X_train, X_test, y_train, y_test = train_test_split(X, y, test_size=0.2, random_state=42)"
      ],
      "metadata": {
        "id": "Lbry9IXkKmLY"
      },
      "execution_count": null,
      "outputs": []
    },
    {
      "cell_type": "code",
      "source": [
        "model = RandomForestClassifier(n_estimators=100, random_state=42)\n",
        "model.fit(X_train, y_train)\n",
        "\n",
        "import joblib\n",
        "joblib.dump(model, \"model.pkl\")\n",
        "print(\"Model saved as model.pkl\")"
      ],
      "metadata": {
        "colab": {
          "base_uri": "https://localhost:8080/"
        },
        "id": "nSDHRQ6UKo0J",
        "outputId": "53479c42-5232-4176-d379-be0ae39de2c0"
      },
      "execution_count": null,
      "outputs": [
        {
          "output_type": "stream",
          "name": "stdout",
          "text": [
            "Model saved as model.pkl\n"
          ]
        }
      ]
    },
    {
      "cell_type": "code",
      "source": [],
      "metadata": {
        "id": "he4wX_3dMCKr"
      },
      "execution_count": null,
      "outputs": []
    },
    {
      "cell_type": "code",
      "metadata": {
        "colab": {
          "base_uri": "https://localhost:8080/"
        },
        "id": "d9d97b78",
        "outputId": "377b1d44-7ce3-421c-b483-e97ab3a0daae"
      },
      "source": [
        "y_pred = model.predict(X_test)\n",
        "\n",
        "print(\"Accuracy:\", accuracy_score(y_test, y_pred))\n",
        "print(\"F1 Score:\", f1_score(y_test, y_pred))\n",
        "print(\"\\nConfusion Matrix:\\n\", confusion_matrix(y_test, y_pred))\n",
        "print(\"\\nClassification Report:\\n\", classification_report(y_test, y_pred))"
      ],
      "execution_count": null,
      "outputs": [
        {
          "output_type": "stream",
          "name": "stdout",
          "text": [
            "Accuracy: 0.999\n",
            "F1 Score: 0.9767441860465116\n",
            "\n",
            "Confusion Matrix:\n",
            " [[1956    0]\n",
            " [   2   42]]\n",
            "\n",
            "Classification Report:\n",
            "               precision    recall  f1-score   support\n",
            "\n",
            "           0       1.00      1.00      1.00      1956\n",
            "           1       1.00      0.95      0.98        44\n",
            "\n",
            "    accuracy                           1.00      2000\n",
            "   macro avg       1.00      0.98      0.99      2000\n",
            "weighted avg       1.00      1.00      1.00      2000\n",
            "\n"
          ]
        }
      ]
    },
    {
      "cell_type": "markdown",
      "source": [
        "## Feature importance"
      ],
      "metadata": {
        "id": "k6KMkYDDL9l5"
      }
    },
    {
      "cell_type": "code",
      "source": [
        "importances = model.feature_importances_\n",
        "feature_names = X.columns\n",
        "\n",
        "# Plot\n",
        "plt.figure(figsize=(10,6))\n",
        "sns.barplot(x=importances, y=feature_names)\n",
        "plt.title(\"🔍 Feature Importances\")\n",
        "plt.tight_layout()\n",
        "plt.show()"
      ],
      "metadata": {
        "colab": {
          "base_uri": "https://localhost:8080/",
          "height": 288
        },
        "id": "xkKVmpR3K40Y",
        "outputId": "d6e88590-c470-41cb-921c-cb269a44d922"
      },
      "execution_count": null,
      "outputs": [
        {
          "output_type": "stream",
          "name": "stderr",
          "text": [
            "/tmp/ipython-input-1811855732.py:8: UserWarning: Glyph 128269 (\\N{LEFT-POINTING MAGNIFYING GLASS}) missing from font(s) DejaVu Sans.\n",
            "  plt.tight_layout()\n",
            "/usr/local/lib/python3.11/dist-packages/IPython/core/pylabtools.py:151: UserWarning: Glyph 128269 (\\N{LEFT-POINTING MAGNIFYING GLASS}) missing from font(s) DejaVu Sans.\n",
            "  fig.canvas.print_figure(bytes_io, **kw)\n"
          ]
        },
        {
          "output_type": "display_data",
          "data": {
            "text/plain": [
              "<Figure size 1000x600 with 1 Axes>"
            ],
            "image/png": "[encoded data removed]"
          },
          "metadata": {}
        }
      ]
    }
  ]
}